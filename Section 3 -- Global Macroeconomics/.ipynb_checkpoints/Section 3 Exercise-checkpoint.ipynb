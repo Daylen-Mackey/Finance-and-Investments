{
 "cells": [
  {
   "cell_type": "code",
   "execution_count": 6,
   "metadata": {},
   "outputs": [],
   "source": [
    "import pandas as pd\n",
    "import numpy as np\n",
    "import matplotlib.pyplot as plt"
   ]
  },
  {
   "cell_type": "code",
   "execution_count": 5,
   "metadata": {},
   "outputs": [
    {
     "data": {
      "text/html": [
       "<div>\n",
       "<style scoped>\n",
       "    .dataframe tbody tr th:only-of-type {\n",
       "        vertical-align: middle;\n",
       "    }\n",
       "\n",
       "    .dataframe tbody tr th {\n",
       "        vertical-align: top;\n",
       "    }\n",
       "\n",
       "    .dataframe thead th {\n",
       "        text-align: right;\n",
       "    }\n",
       "</style>\n",
       "<table border=\"1\" class=\"dataframe\">\n",
       "  <thead>\n",
       "    <tr style=\"text-align: right;\">\n",
       "      <th></th>\n",
       "      <th>WEO Country Code</th>\n",
       "      <th>ISO</th>\n",
       "      <th>WEO Subject Code</th>\n",
       "      <th>Country</th>\n",
       "      <th>Subject Descriptor</th>\n",
       "      <th>Subject Notes</th>\n",
       "      <th>Units</th>\n",
       "      <th>Scale</th>\n",
       "      <th>Country/Series-specific Notes</th>\n",
       "      <th>1980</th>\n",
       "      <th>...</th>\n",
       "      <th>2016</th>\n",
       "      <th>2017</th>\n",
       "      <th>2018</th>\n",
       "      <th>2019</th>\n",
       "      <th>2020</th>\n",
       "      <th>2021</th>\n",
       "      <th>2022</th>\n",
       "      <th>Estimates Start After</th>\n",
       "      <th>Unnamed: 53</th>\n",
       "      <th>Unnamed: 54</th>\n",
       "    </tr>\n",
       "  </thead>\n",
       "  <tbody>\n",
       "    <tr>\n",
       "      <th>0</th>\n",
       "      <td>512.0</td>\n",
       "      <td>AFG</td>\n",
       "      <td>NGDP_R</td>\n",
       "      <td>Afghanistan</td>\n",
       "      <td>Gross domestic product, constant prices</td>\n",
       "      <td>Expressed in billions of national currency uni...</td>\n",
       "      <td>National currency</td>\n",
       "      <td>Billions</td>\n",
       "      <td>Source: National Statistics Office Latest actu...</td>\n",
       "      <td>NaN</td>\n",
       "      <td>...</td>\n",
       "      <td>476.376</td>\n",
       "      <td>490.667</td>\n",
       "      <td>507.84</td>\n",
       "      <td>528.154</td>\n",
       "      <td>551.921</td>\n",
       "      <td>579.517</td>\n",
       "      <td>611.39</td>\n",
       "      <td>2014.0</td>\n",
       "      <td>NaN</td>\n",
       "      <td>NaN</td>\n",
       "    </tr>\n",
       "    <tr>\n",
       "      <th>1</th>\n",
       "      <td>512.0</td>\n",
       "      <td>AFG</td>\n",
       "      <td>NGDP_RPCH</td>\n",
       "      <td>Afghanistan</td>\n",
       "      <td>Gross domestic product, constant prices</td>\n",
       "      <td>Annual percentages of constant price GDP are y...</td>\n",
       "      <td>Percent change</td>\n",
       "      <td>NaN</td>\n",
       "      <td>See notes for:  Gross domestic product, consta...</td>\n",
       "      <td>NaN</td>\n",
       "      <td>...</td>\n",
       "      <td>2</td>\n",
       "      <td>3</td>\n",
       "      <td>3.5</td>\n",
       "      <td>4</td>\n",
       "      <td>4.5</td>\n",
       "      <td>5</td>\n",
       "      <td>5.5</td>\n",
       "      <td>2014.0</td>\n",
       "      <td>NaN</td>\n",
       "      <td>NaN</td>\n",
       "    </tr>\n",
       "    <tr>\n",
       "      <th>2</th>\n",
       "      <td>512.0</td>\n",
       "      <td>AFG</td>\n",
       "      <td>NGDP</td>\n",
       "      <td>Afghanistan</td>\n",
       "      <td>Gross domestic product, current prices</td>\n",
       "      <td>Expressed in billions of national currency uni...</td>\n",
       "      <td>National currency</td>\n",
       "      <td>Billions</td>\n",
       "      <td>Source: National Statistics Office Latest actu...</td>\n",
       "      <td>NaN</td>\n",
       "      <td>...</td>\n",
       "      <td>1281.66</td>\n",
       "      <td>1399.43</td>\n",
       "      <td>1535.31</td>\n",
       "      <td>1692.57</td>\n",
       "      <td>1874.47</td>\n",
       "      <td>2085.38</td>\n",
       "      <td>2330.54</td>\n",
       "      <td>2014.0</td>\n",
       "      <td>NaN</td>\n",
       "      <td>NaN</td>\n",
       "    </tr>\n",
       "    <tr>\n",
       "      <th>3</th>\n",
       "      <td>512.0</td>\n",
       "      <td>AFG</td>\n",
       "      <td>NGDPD</td>\n",
       "      <td>Afghanistan</td>\n",
       "      <td>Gross domestic product, current prices</td>\n",
       "      <td>Values are based upon GDP in national currency...</td>\n",
       "      <td>U.S. dollars</td>\n",
       "      <td>Billions</td>\n",
       "      <td>See notes for:  Gross domestic product, curren...</td>\n",
       "      <td>NaN</td>\n",
       "      <td>...</td>\n",
       "      <td>18.886</td>\n",
       "      <td>20.57</td>\n",
       "      <td>21.706</td>\n",
       "      <td>23.233</td>\n",
       "      <td>24.93</td>\n",
       "      <td>26.857</td>\n",
       "      <td>29.113</td>\n",
       "      <td>2014.0</td>\n",
       "      <td>2022</td>\n",
       "      <td>Estimates Start After</td>\n",
       "    </tr>\n",
       "    <tr>\n",
       "      <th>4</th>\n",
       "      <td>512.0</td>\n",
       "      <td>AFG</td>\n",
       "      <td>NGDP_D</td>\n",
       "      <td>Afghanistan</td>\n",
       "      <td>Gross domestic product, deflator</td>\n",
       "      <td>The GDP deflator is derived by dividing curren...</td>\n",
       "      <td>Index</td>\n",
       "      <td>NaN</td>\n",
       "      <td>See notes for:  Gross domestic product, consta...</td>\n",
       "      <td>NaN</td>\n",
       "      <td>...</td>\n",
       "      <td>269.044</td>\n",
       "      <td>285.209</td>\n",
       "      <td>302.321</td>\n",
       "      <td>320.469</td>\n",
       "      <td>339.627</td>\n",
       "      <td>359.848</td>\n",
       "      <td>381.188</td>\n",
       "      <td>2014.0</td>\n",
       "      <td>611.39</td>\n",
       "      <td>2014</td>\n",
       "    </tr>\n",
       "  </tbody>\n",
       "</table>\n",
       "<p>5 rows × 55 columns</p>\n",
       "</div>"
      ],
      "text/plain": [
       "   WEO Country Code  ISO WEO Subject Code      Country  \\\n",
       "0             512.0  AFG           NGDP_R  Afghanistan   \n",
       "1             512.0  AFG        NGDP_RPCH  Afghanistan   \n",
       "2             512.0  AFG             NGDP  Afghanistan   \n",
       "3             512.0  AFG            NGDPD  Afghanistan   \n",
       "4             512.0  AFG           NGDP_D  Afghanistan   \n",
       "\n",
       "                        Subject Descriptor  \\\n",
       "0  Gross domestic product, constant prices   \n",
       "1  Gross domestic product, constant prices   \n",
       "2   Gross domestic product, current prices   \n",
       "3   Gross domestic product, current prices   \n",
       "4         Gross domestic product, deflator   \n",
       "\n",
       "                                       Subject Notes              Units  \\\n",
       "0  Expressed in billions of national currency uni...  National currency   \n",
       "1  Annual percentages of constant price GDP are y...     Percent change   \n",
       "2  Expressed in billions of national currency uni...  National currency   \n",
       "3  Values are based upon GDP in national currency...       U.S. dollars   \n",
       "4  The GDP deflator is derived by dividing curren...              Index   \n",
       "\n",
       "      Scale                      Country/Series-specific Notes 1980  ...  \\\n",
       "0  Billions  Source: National Statistics Office Latest actu...  NaN  ...   \n",
       "1       NaN  See notes for:  Gross domestic product, consta...  NaN  ...   \n",
       "2  Billions  Source: National Statistics Office Latest actu...  NaN  ...   \n",
       "3  Billions  See notes for:  Gross domestic product, curren...  NaN  ...   \n",
       "4       NaN  See notes for:  Gross domestic product, consta...  NaN  ...   \n",
       "\n",
       "      2016     2017     2018     2019     2020     2021     2022  \\\n",
       "0  476.376  490.667   507.84  528.154  551.921  579.517   611.39   \n",
       "1        2        3      3.5        4      4.5        5      5.5   \n",
       "2  1281.66  1399.43  1535.31  1692.57  1874.47  2085.38  2330.54   \n",
       "3   18.886    20.57   21.706   23.233    24.93   26.857   29.113   \n",
       "4  269.044  285.209  302.321  320.469  339.627  359.848  381.188   \n",
       "\n",
       "  Estimates Start After Unnamed: 53            Unnamed: 54  \n",
       "0                2014.0         NaN                    NaN  \n",
       "1                2014.0         NaN                    NaN  \n",
       "2                2014.0         NaN                    NaN  \n",
       "3                2014.0        2022  Estimates Start After  \n",
       "4                2014.0      611.39                   2014  \n",
       "\n",
       "[5 rows x 55 columns]"
      ]
     },
     "execution_count": 5,
     "metadata": {},
     "output_type": "execute_result"
    }
   ],
   "source": [
    "df = pd.read_excel(\"RawData.xlsx\")\n",
    "df.head()"
   ]
  },
  {
   "cell_type": "markdown",
   "metadata": {},
   "source": [
    "#### Q8: What was the 2012 Gross Domestic Product (GDP) of Japan in US Dollars?"
   ]
  },
  {
   "cell_type": "code",
   "execution_count": 23,
   "metadata": {},
   "outputs": [
    {
     "data": {
      "text/plain": [
       "3611    6203.21\n",
       "Name: 2012, dtype: object"
      ]
     },
     "execution_count": 23,
     "metadata": {},
     "output_type": "execute_result"
    }
   ],
   "source": [
    "gdp_filter = 'Gross domestic product, current prices' #Subject Descriptor\n",
    "units = 'U.S. dollars' #Units\n",
    "country = 'Japan'\n",
    "df.query(f\"`Subject Descriptor` == '{gdp_filter}' and Units == '{units}' and Country == '{country}'\")[2012]"
   ]
  },
  {
   "cell_type": "markdown",
   "metadata": {},
   "source": [
    "#### Q9: What was the 2007 Gross Domestic Product (GDP) of Germany per capita (meaning per person)?"
   ]
  },
  {
   "cell_type": "code",
   "execution_count": 25,
   "metadata": {},
   "outputs": [
    {
     "data": {
      "text/plain": [
       "2691    42531.4\n",
       "Name: 2007, dtype: object"
      ]
     },
     "execution_count": 25,
     "metadata": {},
     "output_type": "execute_result"
    }
   ],
   "source": [
    "gdp_filter = 'Gross domestic product per capita, current prices' #Subject Descriptor\n",
    "units = 'U.S. dollars' #Units\n",
    "country = 'Germany'\n",
    "df.query(f\"`Subject Descriptor` == '{gdp_filter}' and Units == '{units}' and Country == '{country}'\")[2007]"
   ]
  },
  {
   "cell_type": "markdown",
   "metadata": {},
   "source": [
    "#### Q10: What is the IMF forecasting for the top 20 countries in the world for GDP per capita in U.S. dollars for 2022? Please show all 20 countries sorted by highest to lowest."
   ]
  },
  {
   "cell_type": "code",
   "execution_count": 30,
   "metadata": {},
   "outputs": [
    {
     "data": {
      "text/plain": [
       "Index([             'WEO Country Code',                           'ISO',\n",
       "                    'WEO Subject Code',                       'Country',\n",
       "                  'Subject Descriptor',                 'Subject Notes',\n",
       "                               'Units',                         'Scale',\n",
       "       'Country/Series-specific Notes',                            1980,\n",
       "                                  1981,                            1982,\n",
       "                                  1983,                            1984,\n",
       "                                  1985,                            1986,\n",
       "                                  1987,                            1988,\n",
       "                                  1989,                            1990,\n",
       "                                  1991,                            1992,\n",
       "                                  1993,                            1994,\n",
       "                                  1995,                            1996,\n",
       "                                  1997,                            1998,\n",
       "                                  1999,                            2000,\n",
       "                                  2001,                            2002,\n",
       "                                  2003,                            2004,\n",
       "                                  2005,                            2006,\n",
       "                                  2007,                            2008,\n",
       "                                  2009,                            2010,\n",
       "                                  2011,                            2012,\n",
       "                                  2013,                            2014,\n",
       "                                  2015,                            2016,\n",
       "                                  2017,                            2018,\n",
       "                                  2019,                            2020,\n",
       "                                  2021,                            2022,\n",
       "               'Estimates Start After',                   'Unnamed: 53',\n",
       "                         'Unnamed: 54'],\n",
       "      dtype='object')"
      ]
     },
     "execution_count": 30,
     "metadata": {},
     "output_type": "execute_result"
    }
   ],
   "source": [
    "gdp_filter = 'Gross domestic product per capita, current prices' #Subject Descriptor\n",
    "units = 'U.S. dollars' #Units\n",
    "df_filtered = df.query(f\"`Subject Descriptor` == '{gdp_filter}' and Units == '{units}'\")\n",
    "# df_filtered.columns\n",
    "df_filtered.sort_values(by = [2022])"
   ]
  }
 ],
 "metadata": {
  "kernelspec": {
   "display_name": "Python 3",
   "language": "python",
   "name": "python3"
  },
  "language_info": {
   "codemirror_mode": {
    "name": "ipython",
    "version": 3
   },
   "file_extension": ".py",
   "mimetype": "text/x-python",
   "name": "python",
   "nbconvert_exporter": "python",
   "pygments_lexer": "ipython3",
   "version": "3.7.6"
  }
 },
 "nbformat": 4,
 "nbformat_minor": 4
}
