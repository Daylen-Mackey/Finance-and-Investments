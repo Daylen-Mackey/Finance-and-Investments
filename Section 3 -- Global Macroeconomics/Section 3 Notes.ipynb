{
 "cells": [
  {
   "cell_type": "markdown",
   "metadata": {},
   "source": [
    "# Section 3 Notebook"
   ]
  },
  {
   "cell_type": "markdown",
   "metadata": {},
   "source": [
    "### 12."
   ]
  },
  {
   "cell_type": "markdown",
   "metadata": {},
   "source": [
    "IMF -- International Monetary Fund: Founded in 1944 to ensure the Great Depression would never happen again\n",
    "    \n",
    "* They're trying to ensure the global market is growing while minimizing poverty\n",
    "* Actually have the ability to lend money to countries\n",
    "\n",
    "-- Oil and Gas is monitored closely, as it can be highly indicative of global markets\n",
    "\n",
    "Commodity Prices can impact the share prices of copmanies across the globe\n",
    "-- That's why we need to be able to understand them\n",
    "\n",
    "You can use https://data.imf.org/?sk=4c514d48-b6ba-49ed-8ab9-52b0c1a0179b&sId=-1 to sign up for IMF alerts when you're monitoring countries"
   ]
  },
  {
   "cell_type": "markdown",
   "metadata": {},
   "source": [
    "GDP measures how much a country makes:\n",
    "* Surplus = Makes more money than it spends\n",
    "* Revenue, and does not include expenses"
   ]
  },
  {
   "cell_type": "markdown",
   "metadata": {},
   "source": [
    "### REAL GDP\n",
    "\n",
    "Real GDP accounts for large price changes and fluctuations in countries"
   ]
  },
  {
   "cell_type": "markdown",
   "metadata": {},
   "source": [
    "* Standard Bear vs Bull Market discussion"
   ]
  },
  {
   "cell_type": "markdown",
   "metadata": {},
   "source": [
    "def <b>Recession</b>:\n",
    "    Recession is defined as two consecutive quarters with negative GDP growth"
   ]
  }
 ],
 "metadata": {
  "kernelspec": {
   "display_name": "Python 3",
   "language": "python",
   "name": "python3"
  },
  "language_info": {
   "codemirror_mode": {
    "name": "ipython",
    "version": 3
   },
   "file_extension": ".py",
   "mimetype": "text/x-python",
   "name": "python",
   "nbconvert_exporter": "python",
   "pygments_lexer": "ipython3",
   "version": "3.7.6"
  }
 },
 "nbformat": 4,
 "nbformat_minor": 4
}
