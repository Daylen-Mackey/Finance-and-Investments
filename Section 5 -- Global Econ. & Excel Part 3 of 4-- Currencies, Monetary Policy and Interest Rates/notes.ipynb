{
 "cells": [
  {
   "cell_type": "markdown",
   "metadata": {},
   "source": [
    "# Lec 20 Interest Rates"
   ]
  },
  {
   "cell_type": "markdown",
   "metadata": {},
   "source": [
    "- Prices increase + GDP Slows / Contracts --> Stagflation\n"
   ]
  },
  {
   "cell_type": "markdown",
   "metadata": {},
   "source": [
    "### When governments get loans from banks, they're called \"Bonds\"\n",
    "\n",
    "- If the Government buys their bonds back, there's more money in circulation, interest rates should decrease\n",
    "    - This is called <b>Quantitative Easing</b> (QE)"
   ]
  },
  {
   "cell_type": "markdown",
   "metadata": {},
   "source": [
    "If the gov starts selling a lot of bonds, the banks get bonds, but there's going to be less money in circulation\n",
    "- Interest prices increase as there's lower supply"
   ]
  },
  {
   "cell_type": "markdown",
   "metadata": {},
   "source": [
    "High interest rates gives you strong returns on bonds"
   ]
  },
  {
   "cell_type": "markdown",
   "metadata": {},
   "source": [
    "# Lec 21 Currency Movements"
   ]
  },
  {
   "cell_type": "markdown",
   "metadata": {},
   "source": [
    "When stable economies have high interest rates, their currencies go up significantly (relative to other currencies)"
   ]
  },
  {
   "cell_type": "markdown",
   "metadata": {},
   "source": [
    "- Companies can hedge their currency exposures"
   ]
  }
 ],
 "metadata": {
  "kernelspec": {
   "display_name": "Python 3",
   "language": "python",
   "name": "python3"
  },
  "language_info": {
   "codemirror_mode": {
    "name": "ipython",
    "version": 3
   },
   "file_extension": ".py",
   "mimetype": "text/x-python",
   "name": "python",
   "nbconvert_exporter": "python",
   "pygments_lexer": "ipython3",
   "version": "3.7.6"
  }
 },
 "nbformat": 4,
 "nbformat_minor": 4
}
