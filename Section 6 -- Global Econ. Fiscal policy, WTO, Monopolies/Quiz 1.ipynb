{
 "cells": [
  {
   "cell_type": "markdown",
   "metadata": {},
   "source": [
    "# QUIZ 1"
   ]
  },
  {
   "cell_type": "markdown",
   "metadata": {},
   "source": [
    "### Q1: What does the International Monetary Fund (\"IMF\") do: \n",
    "\n",
    "a) The IMF makes sure that the global economy is growing while trying to minimize poverty \n",
    "\n",
    "b) The IMF can lend money to countries too that are experiencing “balance of payments” problems (meaning they owe more than they have). \n",
    "\n",
    "c) The IMF lent money to countries in 2008 when the entire world was literally within 24 hours of bank machines not working.\n",
    "\n",
    "<b> d) All the above\n",
    "\n"
   ]
  },
  {
   "cell_type": "markdown",
   "metadata": {},
   "source": [
    "### Q2: Is the following statement True or False: \" Gross Domestic Product (GDP) measures how much money a country makes not including expenses.\" \n",
    "\n",
    "<b>True</b>\n",
    "\n",
    "False\n",
    "\n"
   ]
  },
  {
   "cell_type": "markdown",
   "metadata": {},
   "source": [
    "### Q3: When the stock market is doing well, we refer to this as a:\n",
    "<b> Bull Market "
   ]
  },
  {
   "cell_type": "markdown",
   "metadata": {},
   "source": [
    "### Q4: The World Bank is primarily focused on: \n",
    "\n",
    "\n",
    "<b> Decreasing poverty in the world"
   ]
  },
  {
   "cell_type": "markdown",
   "metadata": {},
   "source": [
    "### Q5: Which statement about interest rates is correct:\n",
    " \n",
    "a) The NOMINAL interest rate accounts for inflation as opposed to the REAL interest rate, which does not account for inflation. \n",
    "\n",
    "<b>\n",
    "b) The REAL interest rate accounts for inflation as opposed to the NOMINAL interest rate, which does not account for inflation. \n",
    "</b>"
   ]
  },
  {
   "cell_type": "markdown",
   "metadata": {},
   "source": [
    "### Q6: Interest rates are often high in countries because: \n",
    "\n",
    "<b> The government is trying to control high prices (meaning the government is trying to lower inflation). "
   ]
  },
  {
   "cell_type": "markdown",
   "metadata": {},
   "source": [
    "### Q7: How does a government increase or decrease interest rates? : \n",
    "\n",
    "d)They do so by increasing or decreasing the money supply quite often through buying or selling bonds. "
   ]
  },
  {
   "cell_type": "markdown",
   "metadata": {},
   "source": [
    "### Q8: Monetary policy is:  \n",
    "\n",
    "a) the process of a government changing the supply of money that the banks have access to, which changes the price of money (meaning this changes the interest rate of money). \n"
   ]
  },
  {
   "cell_type": "markdown",
   "metadata": {},
   "source": [
    "### Q9: Which statement about economic stimulation is true: \n",
    "\n",
    "When times are tough and we are in a recession or about to enter a potential recession, governments increase (meaning they raise) interest rates in order to stimulate their economy. \n",
    "\n",
    "<b>\n",
    "When times are tough and we are in a recession or about to enter a potential recession, governments cut (meaning they lower) interest rates in order to stimulate their economy. \n",
    "\n"
   ]
  },
  {
   "cell_type": "markdown",
   "metadata": {},
   "source": [
    "### Q10: Why is a government more likely to raise interest rates when the economy is doing well? \n",
    "<b>\n",
    "\n",
    "So that they have the ability to help the economy later (if a recession occurs) by cutting interest rates. \n",
    "</b>\n",
    "\n",
    "So that they have the ability to help the economy later (if a bull market occurs) by increasing interest rates. \n",
    "\n"
   ]
  },
  {
   "cell_type": "markdown",
   "metadata": {},
   "source": [
    "### Q11:What elected or appointed official(s) are in charge of changing the interest rates in different countries?  \n",
    "\n",
    "a) The Federal Reserve\n",
    "\n",
    "b) The Central Bank\n",
    "\n",
    "c) The Minister of Finance\n",
    "\n",
    "<b>\n",
    "d)All the above\n"
   ]
  },
  {
   "cell_type": "markdown",
   "metadata": {},
   "source": [
    "### Q11: True or false: \"Higher interest rates mean fewer jobs and companies are created.\"\n",
    "\n",
    "\n",
    "<b>\n",
    "True\n",
    "</b>\n",
    "\n",
    "False\n"
   ]
  },
  {
   "cell_type": "markdown",
   "metadata": {},
   "source": [
    "### Q11: If a country has huge oil reserves and if this country's economy is primarily focused on selling oil, then which of the following statements about that country's currency value is true (assuming that country has a floating currency rate and not a fixed currency rate): \n",
    "\n",
    "a) If the price of oil goes down a lot, then that country's currency value will likely increase. \n",
    "\n",
    "b) If the price of oil goes up a lot, then that country's currency value will likely decrease\n",
    "\n",
    "<b>c) If the price of oil goes up a lot, then that country's currency value will likely increase. </b> \n",
    " \n",
    " \n",
    "d) If the price of oil goes down a lot, then that country's currency value will likely not change. \n",
    "\n",
    "e) If the price of oil goes up a lot, then that country's currency value will likely not change. "
   ]
  },
  {
   "cell_type": "markdown",
   "metadata": {},
   "source": [
    "### Question 14: Which of the following countries have their currencies pegged (meaning fixed) to the US dollar or the Euro: \n",
    "\n",
    "Aruba, Barbados, Jordan, Saudi Arabia, South Sudan, United Arab Emirates, Venezuela, Chad, Denmark, Niger, Reupublig of Congo, Senegal and Togo"
   ]
  },
  {
   "cell_type": "markdown",
   "metadata": {},
   "source": [
    "### Question 15: Why did the fall of the Berlin Wall help to keep interest rates down (or lower than they usually are): \n",
    "<b> c) Because labour prices remained lower than usual\n"
   ]
  },
  {
   "cell_type": "markdown",
   "metadata": {},
   "source": [
    "### Question 16: What is fiscal policy?\n",
    "<b>\n",
    "a) The process of how governments try to stimulate or improve their economy\n",
    "\n",
    "\n",
    "\n"
   ]
  },
  {
   "cell_type": "markdown",
   "metadata": {},
   "source": [
    "### Question 17: What elected or appointed government official is in charge of fiscal policy in the US and in Europe? \n",
    "\n",
    "<b> b) The Department of the Treasury is in charge of fiscal policy in the US. The European Central bank (ECB) is in charge of fiscal policy in Europe."
   ]
  },
  {
   "cell_type": "markdown",
   "metadata": {},
   "source": [
    "### Question 18: What can stimulate an economy?\n",
    "\n",
    "<b> c) Cutting taces and decreasing the interest rates"
   ]
  },
  {
   "cell_type": "markdown",
   "metadata": {},
   "source": [
    "### Question 19: Which of the following is true about taxes and deficits:\n",
    "\n",
    "b) When countries spend more than they make in taxes, this is called a deficit\n"
   ]
  },
  {
   "cell_type": "markdown",
   "metadata": {},
   "source": [
    "### Question 20:The primary goal of the World Trade Organization (the WTO) is: \n",
    "\n",
    "d) To make sure that trading takes place between countires and that trading disputes are settled\n"
   ]
  },
  {
   "cell_type": "markdown",
   "metadata": {},
   "source": [
    "### Question 21:Why does Warren Buffett think that monopolies are the best investments?\n",
    "\n",
    "a) Monopolies are companies with absolutely no competition, so they usually don’t have to cut prices.\n",
    "\n"
   ]
  },
  {
   "cell_type": "markdown",
   "metadata": {},
   "source": [
    "### Question 22: Which of the following statements about Oligopolies is correct: \n",
    "\n",
    "d) Oligopolies usually have less pricing power than Monopolies\n",
    "\n"
   ]
  },
  {
   "cell_type": "markdown",
   "metadata": {},
   "source": [
    "### Question 23:Why do we need to be aware of government policies when considering investing in monopolies? \n",
    "\n",
    "a) Because the role of governments in business is to make markets fair and governments can regulate monopolies.\n"
   ]
  },
  {
   "cell_type": "markdown",
   "metadata": {},
   "source": [
    "### Question 24:Which Excel features are helpful to use when analyzing data: \n",
    "\n",
    "d) All the above"
   ]
  },
  {
   "cell_type": "markdown",
   "metadata": {},
   "source": [
    "### Question 25:Which of the following data sources are helpful to use for financial analysts when analyzing macro economic data: \n",
    "\n",
    "d) All the above\n",
    "\n"
   ]
  }
 ],
 "metadata": {
  "kernelspec": {
   "display_name": "Python 3",
   "language": "python",
   "name": "python3"
  },
  "language_info": {
   "codemirror_mode": {
    "name": "ipython",
    "version": 3
   },
   "file_extension": ".py",
   "mimetype": "text/x-python",
   "name": "python",
   "nbconvert_exporter": "python",
   "pygments_lexer": "ipython3",
   "version": "3.7.6"
  }
 },
 "nbformat": 4,
 "nbformat_minor": 4
}
