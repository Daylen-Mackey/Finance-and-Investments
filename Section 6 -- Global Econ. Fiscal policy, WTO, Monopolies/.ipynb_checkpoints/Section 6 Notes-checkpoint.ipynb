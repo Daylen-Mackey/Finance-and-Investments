{
 "cells": [
  {
   "cell_type": "markdown",
   "metadata": {},
   "source": [
    "# Section 6 Notebook"
   ]
  },
  {
   "cell_type": "markdown",
   "metadata": {},
   "source": [
    "### Lecture 24"
   ]
  },
  {
   "cell_type": "markdown",
   "metadata": {},
   "source": [
    "<b> Fiscal Policy and Economic Stimulation </b>"
   ]
  },
  {
   "cell_type": "markdown",
   "metadata": {},
   "source": [
    "Fiscal Policy --> how govs try to stimulate or improve the economy by spending money they've collected\n",
    "\n",
    "Remember the definition of a recession: When GDP contracts for 2 quarters in a row\n",
    "\n",
    "A depression is often defined as 2 YEARS of GDP Contraction\n",
    "\n",
    "Who's in charge of fiscal policy? (Hint: Alexander Hamilton)\n",
    "--> It's the secretary of the treasury\n",
    "\n",
    "- Their goal is essentially to manage the govs revenue, make sure the economy is growing, and the economy is doing well\n",
    "\n",
    "Define Deficit : When a company spends more than it makes -- controversial to run a surplus for too long, but this can help stimulate the economy\n",
    "\n",
    "\n",
    "Back to 2008:\n",
    "\n",
    "\n",
    "*Troubled Asset Relief Program (TARP)*\n",
    "--> Government went and bought troubled assets from the bank in huge proportions\n",
    "\n",
    "- Banks got more money, but they were not lender friendly until the government pressured them\n"
   ]
  }
 ],
 "metadata": {
  "kernelspec": {
   "display_name": "Python 3",
   "language": "python",
   "name": "python3"
  },
  "language_info": {
   "codemirror_mode": {
    "name": "ipython",
    "version": 3
   },
   "file_extension": ".py",
   "mimetype": "text/x-python",
   "name": "python",
   "nbconvert_exporter": "python",
   "pygments_lexer": "ipython3",
   "version": "3.7.6"
  }
 },
 "nbformat": 4,
 "nbformat_minor": 4
}
