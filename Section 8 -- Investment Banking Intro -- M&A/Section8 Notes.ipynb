{
 "cells": [
  {
   "cell_type": "markdown",
   "metadata": {},
   "source": [
    "## Section 8 Notes"
   ]
  },
  {
   "cell_type": "markdown",
   "metadata": {},
   "source": [
    "### Lect 38: The IPO and Non Deal Roadshow (NDSR)"
   ]
  },
  {
   "cell_type": "markdown",
   "metadata": {},
   "source": [
    "### Always ask \"What is the most misunderstood aspect of your business model from investors?\"\n",
    "--> They will essentially explain the most complex part of their business"
   ]
  },
  {
   "cell_type": "markdown",
   "metadata": {},
   "source": [
    "Look through the S1 Registration Statement --> Monster document, but it really gives you all the information you need"
   ]
  },
  {
   "cell_type": "markdown",
   "metadata": {},
   "source": [
    "### Lect 39: Introduction to Investment Banking Modeling, M&A, and Valuation"
   ]
  },
  {
   "cell_type": "markdown",
   "metadata": {},
   "source": [
    "### M & A mmodeling Steps\n",
    "\n",
    "1) Income Statement: Add Revenue together, assume overlap or increase (with new distribution channels)\n",
    "\n",
    "2) Income Statement: Add expenses together. Determine where the overlap is \n",
    "\n",
    "3) Balance Sheet: Add everything together (cut and consolidate)\n",
    "\n",
    "4) Cash Flow Statement: Add everything together again \n",
    "\n",
    "\n",
    "--> Big Takeaway is that it's not simple summation, good mergers will have strong synergies"
   ]
  }
 ],
 "metadata": {
  "kernelspec": {
   "display_name": "Python 3",
   "language": "python",
   "name": "python3"
  },
  "language_info": {
   "codemirror_mode": {
    "name": "ipython",
    "version": 3
   },
   "file_extension": ".py",
   "mimetype": "text/x-python",
   "name": "python",
   "nbconvert_exporter": "python",
   "pygments_lexer": "ipython3",
   "version": "3.7.6"
  }
 },
 "nbformat": 4,
 "nbformat_minor": 4
}
